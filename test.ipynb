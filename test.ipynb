{
 "cells": [
  {
   "cell_type": "code",
   "execution_count": 189,
   "metadata": {},
   "outputs": [],
   "source": [
    "import logging\n",
    "\n",
    "import igraph as ig\n",
    "import matplotlib.pyplot as plt\n",
    "import numpy as np\n",
    "import pandas as pd\n",
    "from sklearn.cluster import KMeans\n",
    "\n",
    "from ev_station_solver.constants import CONSTANTS\n",
    "from ev_station_solver.helper_functions import get_distance_matrix\n",
    "from ev_station_solver.loading import load_locations\n",
    "from ev_station_solver.logging import get_logger\n",
    "from ev_station_solver.solving.solver import Solver\n",
    "\n",
    "logger = get_logger(__name__, logging.DEBUG)"
   ]
  },
  {
   "cell_type": "markdown",
   "metadata": {},
   "source": [
    "# Try to find initial locations, deterministically..."
   ]
  },
  {
   "cell_type": "code",
   "execution_count": 190,
   "metadata": {},
   "outputs": [
    {
     "data": {
      "text/plain": [
       "3"
      ]
     },
     "execution_count": 190,
     "metadata": {},
     "output_type": "execute_result"
    }
   ],
   "source": [
    "# use given starting solutions\n",
    "locations = load_locations(\"medium\").sample(50).values\n",
    "n_clusters = int(len(locations) * CONSTANTS[\"mu_charging\"] / (2 * CONSTANTS[\"station_ub\"]))\n",
    "service_level = 0.95\n",
    "\n",
    "n_clusters = 3 if n_clusters < 3 else n_clusters\n",
    "n_clusters"
   ]
  },
  {
   "cell_type": "code",
   "execution_count": 191,
   "metadata": {},
   "outputs": [
    {
     "name": "stdout",
     "output_type": "stream",
     "text": [
      "2025-01-15 17:27:48,626 - ev_station_solver.solving.solver - INFO - add_initial_locations: Added 3 k-means locations. Total number of locations: 3.\n",
      "2025-01-15 17:27:48,636 - ev_station_solver.solving.solver - INFO - add_samples: Added 20 samples.\n"
     ]
    }
   ],
   "source": [
    "# current approach with k means\n",
    "s = Solver(vehicle_locations=locations, loglevel=logging.INFO, service_level=service_level)\n",
    "\n",
    "# compute number of initial locations\n",
    "s.add_initial_locations(n_clusters, mode=\"k-means\", seed=0)\n",
    "s.add_samples(num=20)"
   ]
  },
  {
   "cell_type": "code",
   "execution_count": 192,
   "metadata": {},
   "outputs": [
    {
     "data": {
      "image/png": "[encoded data removed]",
      "text/plain": [
       "<Figure size 640x480 with 1 Axes>"
      ]
     },
     "metadata": {},
     "output_type": "display_data"
    }
   ],
   "source": [
    "plt.scatter(s.vehicle_locations[:, 0], s.vehicle_locations[:, 1], c=\"red\", label=\"Vehicle locations\")\n",
    "plt.scatter(s.coordinates_potential_cl[:, 0], s.coordinates_potential_cl[:, 1], c=\"blue\", label=\"Potential locations\")\n",
    "plt.legend()\n",
    "plt.show()"
   ]
  },
  {
   "cell_type": "markdown",
   "metadata": {},
   "source": [
    "# Update Approach\n",
    "Try to compute a set of initial locations based on the adjacency matrices.\n",
    "\n",
    "Create a dataframe with the cars across the samples"
   ]
  },
  {
   "cell_type": "code",
   "execution_count": 193,
   "metadata": {},
   "outputs": [],
   "source": [
    "# create dataframe with all unique locations and the minimum range\n",
    "locations = np.empty((0, 2))\n",
    "ranges = np.empty(0)\n",
    "\n",
    "for sample in s.S:\n",
    "    # concatenate locations\n",
    "    locations = np.concatenate((locations, sample.vehicle_locations), axis=0)\n",
    "    # concatenate ranges\n",
    "    ranges = np.concatenate((ranges, sample.ranges), axis=0)"
   ]
  },
  {
   "cell_type": "code",
   "execution_count": 194,
   "metadata": {},
   "outputs": [],
   "source": [
    "# sort locations by range\n",
    "sorted_indices = np.argsort(ranges)\n",
    "locations = locations[sorted_indices]\n",
    "ranges = ranges[sorted_indices]"
   ]
  },
  {
   "cell_type": "code",
   "execution_count": 195,
   "metadata": {},
   "outputs": [],
   "source": [
    "# drop duplicates (only keep the first occurence with the lowest range)\n",
    "unique_locations, unique_index = np.unique(locations, axis=0, return_index=True)\n",
    "# update ranges\n",
    "unique_ranges = ranges[unique_index]"
   ]
  },
  {
   "cell_type": "code",
   "execution_count": 196,
   "metadata": {},
   "outputs": [
    {
     "data": {
      "text/plain": [
       "array([[ True,  True,  True, ..., False, False, False],\n",
       "       [ True,  True,  True, ..., False, False, False],\n",
       "       [ True,  True,  True, ..., False, False, False],\n",
       "       ...,\n",
       "       [False, False, False, ...,  True,  True,  True],\n",
       "       [False, False, False, ...,  True,  True,  True],\n",
       "       [False, False, False, ...,  True,  True,  True]], shape=(50, 50))"
      ]
     },
     "execution_count": 196,
     "metadata": {},
     "output_type": "execute_result"
    }
   ],
   "source": [
    "# get distance matrix\n",
    "n_locations = len(unique_locations)\n",
    "distance_matrix = get_distance_matrix(unique_locations, symmetric=True)\n",
    "total_ranges = unique_ranges[:, np.newaxis] + unique_ranges[np.newaxis, :]\n",
    "reachibility_matrix = distance_matrix <= total_ranges\n",
    "reachibility_matrix"
   ]
  },
  {
   "cell_type": "code",
   "execution_count": 197,
   "metadata": {},
   "outputs": [],
   "source": [
    "# distance matrix if other car location is reachable\n",
    "ranges_row = unique_ranges[:, np.newaxis]  # Shape (n, 1)\n",
    "ranges_col = unique_ranges[np.newaxis, :]  # Shape (1, n)\n",
    "\n",
    "# Compare distances with both ranges\n",
    "within_range1 = distance_matrix < ranges_row  # Compare with first point's range\n",
    "within_range2 = distance_matrix < ranges_col  # Compare with second point's range\n",
    "\n",
    "# Points are adjacent if within either range\n",
    "adjacency = np.logical_or(within_range1, within_range2)"
   ]
  },
  {
   "cell_type": "markdown",
   "metadata": {},
   "source": [
    "## OR Approach\n",
    "The idea is to create an optimisation where each clique is added with the number of members. The model should then select the cliques that maximise the reachable cars. One clique is the equivalent to an area that all cars can reach in that qlique.\n",
    "\n",
    "To achieve this, first all cliques are computed:"
   ]
  },
  {
   "cell_type": "code",
   "execution_count": 198,
   "metadata": {},
   "outputs": [],
   "source": [
    "# create graph from adjacency matrix\n",
    "G = ig.Graph.Adjacency(reachibility_matrix.tolist(), mode=ig.ADJ_UNDIRECTED)"
   ]
  },
  {
   "cell_type": "code",
   "execution_count": 199,
   "metadata": {},
   "outputs": [],
   "source": [
    "# cliques = []\n",
    "\n",
    "# for k in tqdm(range(reachibility_matrix.shape[0])):\n",
    "#     # get all cliques of size k\n",
    "#     cliques_k = G.cliques(min=k, max=k)\n",
    "#     cliques.extend(cliques_k)"
   ]
  },
  {
   "cell_type": "markdown",
   "metadata": {},
   "source": [
    "This proved to be infeasible, lets try a different approach.\n",
    "\n",
    "## New Idea\n",
    "1. Compute graph\n",
    "2. compute degress\n",
    "3. select largest degrees with the smallest range and its neighbours with edges in that subgraph\n",
    "4. compute maximum clique\n",
    "5. add ceil nq charing locattions at geometric median with range constraints\n",
    "6. delete all vertices in maximum clique from main graph\n",
    "7. repeat from 2"
   ]
  },
  {
   "cell_type": "code",
   "execution_count": 201,
   "metadata": {},
   "outputs": [
    {
     "data": {
      "text/html": [
       "<div>\n",
       "<style scoped>\n",
       "    .dataframe tbody tr th:only-of-type {\n",
       "        vertical-align: middle;\n",
       "    }\n",
       "\n",
       "    .dataframe tbody tr th {\n",
       "        vertical-align: top;\n",
       "    }\n",
       "\n",
       "    .dataframe thead th {\n",
       "        text-align: right;\n",
       "    }\n",
       "</style>\n",
       "<table border=\"1\" class=\"dataframe\">\n",
       "  <thead>\n",
       "    <tr style=\"text-align: right;\">\n",
       "      <th></th>\n",
       "      <th>degree</th>\n",
       "      <th>range</th>\n",
       "    </tr>\n",
       "    <tr>\n",
       "      <th>id</th>\n",
       "      <th></th>\n",
       "      <th></th>\n",
       "    </tr>\n",
       "  </thead>\n",
       "  <tbody>\n",
       "    <tr>\n",
       "      <th>0</th>\n",
       "      <td>9</td>\n",
       "      <td>33.195200</td>\n",
       "    </tr>\n",
       "    <tr>\n",
       "      <th>1</th>\n",
       "      <td>9</td>\n",
       "      <td>21.946786</td>\n",
       "    </tr>\n",
       "    <tr>\n",
       "      <th>2</th>\n",
       "      <td>9</td>\n",
       "      <td>32.321360</td>\n",
       "    </tr>\n",
       "    <tr>\n",
       "      <th>3</th>\n",
       "      <td>9</td>\n",
       "      <td>35.839713</td>\n",
       "    </tr>\n",
       "    <tr>\n",
       "      <th>4</th>\n",
       "      <td>9</td>\n",
       "      <td>38.589549</td>\n",
       "    </tr>\n",
       "  </tbody>\n",
       "</table>\n",
       "</div>"
      ],
      "text/plain": [
       "    degree      range\n",
       "id                   \n",
       "0        9  33.195200\n",
       "1        9  21.946786\n",
       "2        9  32.321360\n",
       "3        9  35.839713\n",
       "4        9  38.589549"
      ]
     },
     "execution_count": 201,
     "metadata": {},
     "output_type": "execute_result"
    }
   ],
   "source": [
    "degrees = G.degree(range(n_locations), loops=False)\n",
    "nodes = pd.DataFrame({\"degree\": degrees, \"range\": unique_ranges})\n",
    "nodes.index.name = \"id\"\n",
    "nodes.head()"
   ]
  },
  {
   "cell_type": "code",
   "execution_count": 202,
   "metadata": {},
   "outputs": [
    {
     "data": {
      "text/html": [
       "<div>\n",
       "<style scoped>\n",
       "    .dataframe tbody tr th:only-of-type {\n",
       "        vertical-align: middle;\n",
       "    }\n",
       "\n",
       "    .dataframe tbody tr th {\n",
       "        vertical-align: top;\n",
       "    }\n",
       "\n",
       "    .dataframe thead th {\n",
       "        text-align: right;\n",
       "    }\n",
       "</style>\n",
       "<table border=\"1\" class=\"dataframe\">\n",
       "  <thead>\n",
       "    <tr style=\"text-align: right;\">\n",
       "      <th></th>\n",
       "      <th>degree</th>\n",
       "      <th>range</th>\n",
       "    </tr>\n",
       "    <tr>\n",
       "      <th>id</th>\n",
       "      <th></th>\n",
       "      <th></th>\n",
       "    </tr>\n",
       "  </thead>\n",
       "  <tbody>\n",
       "    <tr>\n",
       "      <th>48</th>\n",
       "      <td>36</td>\n",
       "      <td>76.334286</td>\n",
       "    </tr>\n",
       "    <tr>\n",
       "      <th>22</th>\n",
       "      <td>35</td>\n",
       "      <td>35.282523</td>\n",
       "    </tr>\n",
       "    <tr>\n",
       "      <th>26</th>\n",
       "      <td>34</td>\n",
       "      <td>28.946517</td>\n",
       "    </tr>\n",
       "    <tr>\n",
       "      <th>28</th>\n",
       "      <td>34</td>\n",
       "      <td>35.925633</td>\n",
       "    </tr>\n",
       "    <tr>\n",
       "      <th>23</th>\n",
       "      <td>34</td>\n",
       "      <td>36.075099</td>\n",
       "    </tr>\n",
       "  </tbody>\n",
       "</table>\n",
       "</div>"
      ],
      "text/plain": [
       "    degree      range\n",
       "id                   \n",
       "48      36  76.334286\n",
       "22      35  35.282523\n",
       "26      34  28.946517\n",
       "28      34  35.925633\n",
       "23      34  36.075099"
      ]
     },
     "execution_count": 202,
     "metadata": {},
     "output_type": "execute_result"
    }
   ],
   "source": [
    "# sort by degree and then the lowes range\n",
    "nodes = nodes.sort_values([\"degree\", \"range\"], ascending=[False, True])\n",
    "nodes.head()"
   ]
  },
  {
   "cell_type": "code",
   "execution_count": 203,
   "metadata": {},
   "outputs": [
    {
     "data": {
      "text/plain": [
       "np.int64(48)"
      ]
     },
     "execution_count": 203,
     "metadata": {},
     "output_type": "execute_result"
    }
   ],
   "source": [
    "id = nodes.index[0]\n",
    "id"
   ]
  },
  {
   "cell_type": "code",
   "execution_count": 204,
   "metadata": {},
   "outputs": [],
   "source": [
    "# get neighbors\n",
    "neighbors = G.neighbors(id)\n",
    "# get subgraph\n",
    "subgraph = G.subgraph(neighbors + [id])"
   ]
  },
  {
   "cell_type": "code",
   "execution_count": 205,
   "metadata": {},
   "outputs": [],
   "source": [
    "# find the largest clique\n",
    "largest_cliques = subgraph.largest_cliques()"
   ]
  },
  {
   "cell_type": "code",
   "execution_count": 206,
   "metadata": {},
   "outputs": [
    {
     "data": {
      "text/plain": [
       "21"
      ]
     },
     "execution_count": 206,
     "metadata": {},
     "output_type": "execute_result"
    }
   ],
   "source": [
    "largest_clique = np.array(largest_cliques[0])\n",
    "n_cars = len(largest_clique)\n",
    "n_cars"
   ]
  },
  {
   "cell_type": "code",
   "execution_count": 207,
   "metadata": {},
   "outputs": [],
   "source": [
    "kmeans = KMeans(n_clusters=-(n_cars // -16))\n",
    "kmeans.fit(unique_locations[largest_clique])\n",
    "cluster = kmeans.cluster_centers_"
   ]
  },
  {
   "cell_type": "code",
   "execution_count": 208,
   "metadata": {},
   "outputs": [],
   "source": [
    "# create mask for clique\n",
    "mask = np.zeros(n_locations, dtype=bool)\n",
    "mask[largest_clique] = True"
   ]
  },
  {
   "cell_type": "code",
   "execution_count": 209,
   "metadata": {},
   "outputs": [
    {
     "data": {
      "image/png": "[encoded data removed]",
      "text/plain": [
       "<Figure size 640x480 with 1 Axes>"
      ]
     },
     "metadata": {},
     "output_type": "display_data"
    }
   ],
   "source": [
    "plt.scatter(unique_locations[~mask, 0], unique_locations[~mask, 1], c=\"red\", label=\"Vehicle locations not in clique\")\n",
    "plt.scatter(unique_locations[mask, 0], unique_locations[mask, 1], c=\"green\", label=\"Vehicle locations in clique\")\n",
    "plt.scatter(cluster[:, 0], cluster[:, 1], c=\"blue\", label=\"Potential locations with k-means\", s=3)\n",
    "plt.legend()\n",
    "plt.show()"
   ]
  },
  {
   "cell_type": "code",
   "execution_count": null,
   "metadata": {},
   "outputs": [],
   "source": []
  },
  {
   "cell_type": "code",
   "execution_count": null,
   "metadata": {},
   "outputs": [],
   "source": []
  }
 ],
 "metadata": {
  "kernelspec": {
   "display_name": ".venv",
   "language": "python",
   "name": "python3"
  },
  "language_info": {
   "codemirror_mode": {
    "name": "ipython",
    "version": 3
   },
   "file_extension": ".py",
   "mimetype": "text/x-python",
   "name": "python",
   "nbconvert_exporter": "python",
   "pygments_lexer": "ipython3",
   "version": "3.10.15"
  }
 },
 "nbformat": 4,
 "nbformat_minor": 2
}
