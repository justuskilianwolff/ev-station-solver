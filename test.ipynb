{
 "cells": [
  {
   "cell_type": "code",
   "execution_count": 1,
   "metadata": {},
   "outputs": [],
   "source": [
    "import logging\n",
    "\n",
    "import matplotlib.pyplot as plt\n",
    "import pandas as pd\n",
    "from itertools import combinations\n",
    "from ev_station_solver.constants import CONSTANTS\n",
    "from ev_station_solver.loading import load_locations\n",
    "import numpy as np\n",
    "from tqdm import tqdm \n",
    "from ev_station_solver.solving.solver import Solver\n",
    "from ev_station_solver.helper_functions import get_distance_matrix\n"
   ]
  },
  {
   "cell_type": "code",
   "execution_count": 2,
   "metadata": {},
   "outputs": [],
   "source": [
    "# use given starting solutions\n",
    "locations = load_locations(\"large\").sample(50).values\n",
    "n_clusters = int(len(locations) * CONSTANTS[\"mu_charging\"] / (2 * CONSTANTS[\"station_ub\"]))\n",
    "service_level = 0.95\n",
    "\n",
    "n_clusters = 3 if n_clusters < 3 else n_clusters"
   ]
  },
  {
   "cell_type": "code",
   "execution_count": 3,
   "metadata": {},
   "outputs": [
    {
     "name": "stdout",
     "output_type": "stream",
     "text": [
      "2024-12-13 22:47:33,224 - ev_station_solver.solving.solver - INFO - add_initial_locations: Added 3 k-means locations. Total number of locations: 3.\n",
      "2024-12-13 22:47:33,227 - ev_station_solver.solving.solver - INFO - add_samples: Added 2 samples.\n"
     ]
    }
   ],
   "source": [
    "s = Solver(vehicle_locations=locations, loglevel=logging.INFO, service_level=service_level)\n",
    "\n",
    "# compute number of initial locations\n",
    "s.add_initial_locations(n_clusters, mode=\"k-means\", seed=0)\n",
    "s.add_samples(num=2)"
   ]
  },
  {
   "cell_type": "code",
   "execution_count": 4,
   "metadata": {},
   "outputs": [
    {
     "data": {
      "image/png": "[encoded data removed]",
      "text/plain": [
       "<Figure size 640x480 with 1 Axes>"
      ]
     },
     "metadata": {},
     "output_type": "display_data"
    }
   ],
   "source": [
    "plt.scatter(s.vehicle_locations[:, 0], s.vehicle_locations[:, 1], c=\"red\", label=\"Vehicle locations\")\n",
    "plt.scatter(s.coordinates_potential_cl[:, 0], s.coordinates_potential_cl[:, 1], c=\"blue\", label=\"Potential locations\")\n",
    "plt.legend()\n",
    "plt.show()"
   ]
  },
  {
   "cell_type": "code",
   "execution_count": 5,
   "metadata": {},
   "outputs": [],
   "source": [
    "# create dataframe with all unique locations and the minimum range\n",
    "locations = np.empty((0, 2))\n",
    "ranges = np.empty(0)\n",
    "\n",
    "for sample in s.S:\n",
    "    # concatenate locations\n",
    "    locations = np.concatenate((locations, sample.vehicle_locations), axis=0)\n",
    "    # concatenate ranges\n",
    "    ranges = np.concatenate((ranges, sample.ranges), axis=0)"
   ]
  },
  {
   "cell_type": "code",
   "execution_count": 6,
   "metadata": {},
   "outputs": [],
   "source": [
    "# sort locations by range\n",
    "sorted_indices = np.argsort(ranges)\n",
    "locations = locations[sorted_indices]\n",
    "ranges = ranges[sorted_indices]"
   ]
  },
  {
   "cell_type": "code",
   "execution_count": 7,
   "metadata": {},
   "outputs": [],
   "source": [
    "# drop duplicates\n",
    "unique_locations, unique_index = np.unique(locations, axis=0, return_index=True)\n",
    "# update ranges\n",
    "unique_ranges = ranges[unique_index]"
   ]
  },
  {
   "cell_type": "code",
   "execution_count": 8,
   "metadata": {},
   "outputs": [
    {
     "data": {
      "text/plain": [
       "array([[ True,  True,  True, ..., False, False, False],\n",
       "       [ True,  True,  True, ..., False, False, False],\n",
       "       [ True,  True,  True, ..., False, False, False],\n",
       "       ...,\n",
       "       [False, False, False, ...,  True,  True,  True],\n",
       "       [False, False, False, ...,  True,  True,  True],\n",
       "       [False, False, False, ...,  True,  True,  True]], shape=(36, 36))"
      ]
     },
     "execution_count": 8,
     "metadata": {},
     "output_type": "execute_result"
    }
   ],
   "source": [
    "# get distance matrix\n",
    "distance_matrix = get_distance_matrix(unique_locations, symmetric=True)\n",
    "total_ranges = unique_ranges[:, np.newaxis] + unique_ranges[np.newaxis, :]\n",
    "reachibility_matrix = distance_matrix <= total_ranges\n",
    "reachibility_matrix"
   ]
  },
  {
   "cell_type": "code",
   "execution_count": 9,
   "metadata": {},
   "outputs": [],
   "source": [
    "from docplex.mp.model import Model"
   ]
  },
  {
   "cell_type": "code",
   "execution_count": 10,
   "metadata": {},
   "outputs": [],
   "source": [
    "m = Model(\"ev_station\")"
   ]
  },
  {
   "cell_type": "code",
   "execution_count": 11,
   "metadata": {},
   "outputs": [],
   "source": [
    "# valid_intersections = set()\n",
    "\n",
    "# for i in tqdm(range(len(unique_locations))):\n",
    "#     # get all true indicies of the reachability matrix\n",
    "#     reachability_indices = np.where(reachibility_matrix[i])[0]\n",
    "#     # remove i \n",
    "#     reachibility_indices = np.delete(reachability_indices, reachability_indices== i)\n",
    "#     # convert to list\n",
    "#     reachability_indices = reachability_indices.tolist()\n",
    "    \n",
    "#     # compute all possible combinations for all rs\n",
    "#     for k in range(len(reachability_indices)):\n",
    "#         for combination in combinations(reachability_indices, k):\n",
    "#             valid_intersections.add(combination)"
   ]
  },
  {
   "cell_type": "code",
   "execution_count": 12,
   "metadata": {},
   "outputs": [],
   "source": [
    "import rustworkx as rw"
   ]
  },
  {
   "cell_type": "code",
   "execution_count": 13,
   "metadata": {},
   "outputs": [],
   "source": [
    "G = rw.PyGraph().from_adjacency_matrix(reachibility_matrix.astype(float)) # create graph from adjacency matrix"
   ]
  },
  {
   "cell_type": "code",
   "execution_count": null,
   "metadata": {},
   "outputs": [
    {
     "name": "stderr",
     "output_type": "stream",
     "text": [
      " 14%|█▍        | 5/36 [00:00<00:01, 26.38it/s]"
     ]
    }
   ],
   "source": [
    "for k in tqdm(range(len(unique_locations))):\n",
    "    rw.connected_subgraphs(G, k=k)"
   ]
  },
  {
   "cell_type": "code",
   "execution_count": null,
   "metadata": {},
   "outputs": [],
   "source": []
  }
 ],
 "metadata": {
  "kernelspec": {
   "display_name": ".venv",
   "language": "python",
   "name": "python3"
  },
  "language_info": {
   "codemirror_mode": {
    "name": "ipython",
    "version": 3
   },
   "file_extension": ".py",
   "mimetype": "text/x-python",
   "name": "python",
   "nbconvert_exporter": "python",
   "pygments_lexer": "ipython3",
   "version": "3.10.15"
  }
 },
 "nbformat": 4,
 "nbformat_minor": 2
}
